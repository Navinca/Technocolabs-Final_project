{
 "cells": [
  {
   "cell_type": "code",
   "execution_count": 1,
   "metadata": {},
   "outputs": [],
   "source": [
    "import pandas as pd\n",
    "from pandas import Series,DataFrame\n",
    "import seaborn as sns\n"
   ]
  },
  {
   "cell_type": "code",
   "execution_count": 6,
   "metadata": {},
   "outputs": [],
   "source": [
    "tracks =pd.read_csv(r'C:\\Users\\Navin\\Downloads\\final project technocolabs\\fma-rock-vs-hiphop.csv')"
   ]
  },
  {
   "cell_type": "code",
   "execution_count": 7,
   "metadata": {},
   "outputs": [
    {
     "data": {
      "text/html": [
       "<div>\n",
       "<style scoped>\n",
       "    .dataframe tbody tr th:only-of-type {\n",
       "        vertical-align: middle;\n",
       "    }\n",
       "\n",
       "    .dataframe tbody tr th {\n",
       "        vertical-align: top;\n",
       "    }\n",
       "\n",
       "    .dataframe thead th {\n",
       "        text-align: right;\n",
       "    }\n",
       "</style>\n",
       "<table border=\"1\" class=\"dataframe\">\n",
       "  <thead>\n",
       "    <tr style=\"text-align: right;\">\n",
       "      <th></th>\n",
       "      <th>track_id</th>\n",
       "      <th>bit_rate</th>\n",
       "      <th>comments</th>\n",
       "      <th>composer</th>\n",
       "      <th>date_created</th>\n",
       "      <th>date_recorded</th>\n",
       "      <th>duration</th>\n",
       "      <th>favorites</th>\n",
       "      <th>genre_top</th>\n",
       "      <th>genres</th>\n",
       "      <th>...</th>\n",
       "      <th>information</th>\n",
       "      <th>interest</th>\n",
       "      <th>language_code</th>\n",
       "      <th>license</th>\n",
       "      <th>listens</th>\n",
       "      <th>lyricist</th>\n",
       "      <th>number</th>\n",
       "      <th>publisher</th>\n",
       "      <th>tags</th>\n",
       "      <th>title</th>\n",
       "    </tr>\n",
       "  </thead>\n",
       "  <tbody>\n",
       "    <tr>\n",
       "      <th>0</th>\n",
       "      <td>135</td>\n",
       "      <td>256000</td>\n",
       "      <td>1</td>\n",
       "      <td>NaN</td>\n",
       "      <td>2008-11-26 01:43:26</td>\n",
       "      <td>2008-11-26 00:00:00</td>\n",
       "      <td>837</td>\n",
       "      <td>0</td>\n",
       "      <td>Rock</td>\n",
       "      <td>[45, 58]</td>\n",
       "      <td>...</td>\n",
       "      <td>NaN</td>\n",
       "      <td>2484</td>\n",
       "      <td>en</td>\n",
       "      <td>Attribution-NonCommercial-ShareAlike 3.0 Inter...</td>\n",
       "      <td>1832</td>\n",
       "      <td>NaN</td>\n",
       "      <td>0</td>\n",
       "      <td>NaN</td>\n",
       "      <td>[]</td>\n",
       "      <td>Father's Day</td>\n",
       "    </tr>\n",
       "    <tr>\n",
       "      <th>1</th>\n",
       "      <td>136</td>\n",
       "      <td>256000</td>\n",
       "      <td>1</td>\n",
       "      <td>NaN</td>\n",
       "      <td>2008-11-26 01:43:35</td>\n",
       "      <td>2008-11-26 00:00:00</td>\n",
       "      <td>509</td>\n",
       "      <td>0</td>\n",
       "      <td>Rock</td>\n",
       "      <td>[45, 58]</td>\n",
       "      <td>...</td>\n",
       "      <td>NaN</td>\n",
       "      <td>1948</td>\n",
       "      <td>en</td>\n",
       "      <td>Attribution-NonCommercial-ShareAlike 3.0 Inter...</td>\n",
       "      <td>1498</td>\n",
       "      <td>NaN</td>\n",
       "      <td>0</td>\n",
       "      <td>NaN</td>\n",
       "      <td>[]</td>\n",
       "      <td>Peel Back The Mountain Sky</td>\n",
       "    </tr>\n",
       "  </tbody>\n",
       "</table>\n",
       "<p>2 rows × 21 columns</p>\n",
       "</div>"
      ],
      "text/plain": [
       "   track_id  bit_rate  comments composer         date_created  \\\n",
       "0       135    256000         1      NaN  2008-11-26 01:43:26   \n",
       "1       136    256000         1      NaN  2008-11-26 01:43:35   \n",
       "\n",
       "         date_recorded  duration  favorites genre_top    genres  ...  \\\n",
       "0  2008-11-26 00:00:00       837          0      Rock  [45, 58]  ...   \n",
       "1  2008-11-26 00:00:00       509          0      Rock  [45, 58]  ...   \n",
       "\n",
       "  information interest  language_code  \\\n",
       "0         NaN     2484             en   \n",
       "1         NaN     1948             en   \n",
       "\n",
       "                                             license listens  lyricist number  \\\n",
       "0  Attribution-NonCommercial-ShareAlike 3.0 Inter...    1832       NaN      0   \n",
       "1  Attribution-NonCommercial-ShareAlike 3.0 Inter...    1498       NaN      0   \n",
       "\n",
       "   publisher tags                       title  \n",
       "0        NaN   []                Father's Day  \n",
       "1        NaN   []  Peel Back The Mountain Sky  \n",
       "\n",
       "[2 rows x 21 columns]"
      ]
     },
     "execution_count": 7,
     "metadata": {},
     "output_type": "execute_result"
    }
   ],
   "source": [
    "tracks.head(2)"
   ]
  },
  {
   "cell_type": "code",
   "execution_count": 8,
   "metadata": {},
   "outputs": [],
   "source": [
    "echonest_metrics =pd.read_json(r'C:\\Users\\Navin\\Downloads\\final project technocolabs\\echonest-metrics.json')"
   ]
  },
  {
   "cell_type": "code",
   "execution_count": 9,
   "metadata": {},
   "outputs": [
    {
     "name": "stdout",
     "output_type": "stream",
     "text": [
      "<class 'pandas.core.frame.DataFrame'>\n",
      "Int64Index: 13129 entries, 0 to 13128\n",
      "Data columns (total 9 columns):\n",
      " #   Column            Non-Null Count  Dtype  \n",
      "---  ------            --------------  -----  \n",
      " 0   track_id          13129 non-null  int64  \n",
      " 1   acousticness      13129 non-null  float64\n",
      " 2   danceability      13129 non-null  float64\n",
      " 3   energy            13129 non-null  float64\n",
      " 4   instrumentalness  13129 non-null  float64\n",
      " 5   liveness          13129 non-null  float64\n",
      " 6   speechiness       13129 non-null  float64\n",
      " 7   tempo             13129 non-null  float64\n",
      " 8   valence           13129 non-null  float64\n",
      "dtypes: float64(8), int64(1)\n",
      "memory usage: 1.0 MB\n"
     ]
    }
   ],
   "source": [
    "echonest_metrics .info()"
   ]
  },
  {
   "cell_type": "code",
   "execution_count": 10,
   "metadata": {},
   "outputs": [
    {
     "data": {
      "text/html": [
       "<div>\n",
       "<style scoped>\n",
       "    .dataframe tbody tr th:only-of-type {\n",
       "        vertical-align: middle;\n",
       "    }\n",
       "\n",
       "    .dataframe tbody tr th {\n",
       "        vertical-align: top;\n",
       "    }\n",
       "\n",
       "    .dataframe thead th {\n",
       "        text-align: right;\n",
       "    }\n",
       "</style>\n",
       "<table border=\"1\" class=\"dataframe\">\n",
       "  <thead>\n",
       "    <tr style=\"text-align: right;\">\n",
       "      <th></th>\n",
       "      <th>track_id</th>\n",
       "      <th>genre_top</th>\n",
       "      <th>acousticness</th>\n",
       "      <th>danceability</th>\n",
       "      <th>energy</th>\n",
       "      <th>instrumentalness</th>\n",
       "      <th>liveness</th>\n",
       "      <th>speechiness</th>\n",
       "      <th>tempo</th>\n",
       "      <th>valence</th>\n",
       "    </tr>\n",
       "  </thead>\n",
       "  <tbody>\n",
       "    <tr>\n",
       "      <th>0</th>\n",
       "      <td>153</td>\n",
       "      <td>Rock</td>\n",
       "      <td>0.988306</td>\n",
       "      <td>0.255661</td>\n",
       "      <td>0.979774</td>\n",
       "      <td>0.973006</td>\n",
       "      <td>0.121342</td>\n",
       "      <td>0.051740</td>\n",
       "      <td>90.241</td>\n",
       "      <td>0.034018</td>\n",
       "    </tr>\n",
       "    <tr>\n",
       "      <th>1</th>\n",
       "      <td>154</td>\n",
       "      <td>Rock</td>\n",
       "      <td>0.970135</td>\n",
       "      <td>0.352946</td>\n",
       "      <td>0.023852</td>\n",
       "      <td>0.957113</td>\n",
       "      <td>0.113261</td>\n",
       "      <td>0.032177</td>\n",
       "      <td>53.758</td>\n",
       "      <td>0.035632</td>\n",
       "    </tr>\n",
       "    <tr>\n",
       "      <th>2</th>\n",
       "      <td>155</td>\n",
       "      <td>Rock</td>\n",
       "      <td>0.981657</td>\n",
       "      <td>0.142249</td>\n",
       "      <td>0.912122</td>\n",
       "      <td>0.967294</td>\n",
       "      <td>0.363510</td>\n",
       "      <td>0.087527</td>\n",
       "      <td>91.912</td>\n",
       "      <td>0.034325</td>\n",
       "    </tr>\n",
       "    <tr>\n",
       "      <th>3</th>\n",
       "      <td>169</td>\n",
       "      <td>Rock</td>\n",
       "      <td>0.989141</td>\n",
       "      <td>0.225978</td>\n",
       "      <td>0.722835</td>\n",
       "      <td>0.263076</td>\n",
       "      <td>0.092371</td>\n",
       "      <td>0.053406</td>\n",
       "      <td>94.322</td>\n",
       "      <td>0.028347</td>\n",
       "    </tr>\n",
       "    <tr>\n",
       "      <th>4</th>\n",
       "      <td>170</td>\n",
       "      <td>Rock</td>\n",
       "      <td>0.886660</td>\n",
       "      <td>0.298518</td>\n",
       "      <td>0.744333</td>\n",
       "      <td>0.920950</td>\n",
       "      <td>0.139587</td>\n",
       "      <td>0.088781</td>\n",
       "      <td>97.880</td>\n",
       "      <td>0.073548</td>\n",
       "    </tr>\n",
       "  </tbody>\n",
       "</table>\n",
       "</div>"
      ],
      "text/plain": [
       "   track_id genre_top  acousticness  danceability    energy  instrumentalness  \\\n",
       "0       153      Rock      0.988306      0.255661  0.979774          0.973006   \n",
       "1       154      Rock      0.970135      0.352946  0.023852          0.957113   \n",
       "2       155      Rock      0.981657      0.142249  0.912122          0.967294   \n",
       "3       169      Rock      0.989141      0.225978  0.722835          0.263076   \n",
       "4       170      Rock      0.886660      0.298518  0.744333          0.920950   \n",
       "\n",
       "   liveness  speechiness   tempo   valence  \n",
       "0  0.121342     0.051740  90.241  0.034018  \n",
       "1  0.113261     0.032177  53.758  0.035632  \n",
       "2  0.363510     0.087527  91.912  0.034325  \n",
       "3  0.092371     0.053406  94.322  0.028347  \n",
       "4  0.139587     0.088781  97.880  0.073548  "
      ]
     },
     "execution_count": 10,
     "metadata": {},
     "output_type": "execute_result"
    }
   ],
   "source": [
    "echo_tracks = pd.merge(left = tracks[['track_id', 'genre_top']], right=echonest_metrics, on='track_id')\n",
    "\n",
    "echo_tracks.head()"
   ]
  },
  {
   "cell_type": "code",
   "execution_count": 11,
   "metadata": {},
   "outputs": [
    {
     "data": {
      "text/html": [
       "<style  type=\"text/css\" >\n",
       "    #T_c5b79ea2_1b86_11eb_8dca_f828197bbfc8row0_col0 {\n",
       "            background-color:  #023858;\n",
       "            color:  #f1f1f1;\n",
       "        }    #T_c5b79ea2_1b86_11eb_8dca_f828197bbfc8row0_col1 {\n",
       "            background-color:  #fff7fb;\n",
       "            color:  #000000;\n",
       "        }    #T_c5b79ea2_1b86_11eb_8dca_f828197bbfc8row0_col2 {\n",
       "            background-color:  #d2d2e7;\n",
       "            color:  #000000;\n",
       "        }    #T_c5b79ea2_1b86_11eb_8dca_f828197bbfc8row0_col3 {\n",
       "            background-color:  #b5c4df;\n",
       "            color:  #000000;\n",
       "        }    #T_c5b79ea2_1b86_11eb_8dca_f828197bbfc8row0_col4 {\n",
       "            background-color:  #f5eef6;\n",
       "            color:  #000000;\n",
       "        }    #T_c5b79ea2_1b86_11eb_8dca_f828197bbfc8row0_col5 {\n",
       "            background-color:  #e9e5f1;\n",
       "            color:  #000000;\n",
       "        }    #T_c5b79ea2_1b86_11eb_8dca_f828197bbfc8row0_col6 {\n",
       "            background-color:  #d1d2e6;\n",
       "            color:  #000000;\n",
       "        }    #T_c5b79ea2_1b86_11eb_8dca_f828197bbfc8row0_col7 {\n",
       "            background-color:  #e1dfed;\n",
       "            color:  #000000;\n",
       "        }    #T_c5b79ea2_1b86_11eb_8dca_f828197bbfc8row0_col8 {\n",
       "            background-color:  #dedcec;\n",
       "            color:  #000000;\n",
       "        }    #T_c5b79ea2_1b86_11eb_8dca_f828197bbfc8row1_col0 {\n",
       "            background-color:  #fff7fb;\n",
       "            color:  #000000;\n",
       "        }    #T_c5b79ea2_1b86_11eb_8dca_f828197bbfc8row1_col1 {\n",
       "            background-color:  #023858;\n",
       "            color:  #f1f1f1;\n",
       "        }    #T_c5b79ea2_1b86_11eb_8dca_f828197bbfc8row1_col2 {\n",
       "            background-color:  #e0dded;\n",
       "            color:  #000000;\n",
       "        }    #T_c5b79ea2_1b86_11eb_8dca_f828197bbfc8row1_col3 {\n",
       "            background-color:  #fff7fb;\n",
       "            color:  #000000;\n",
       "        }    #T_c5b79ea2_1b86_11eb_8dca_f828197bbfc8row1_col4 {\n",
       "            background-color:  #97b7d7;\n",
       "            color:  #000000;\n",
       "        }    #T_c5b79ea2_1b86_11eb_8dca_f828197bbfc8row1_col5 {\n",
       "            background-color:  #f3edf5;\n",
       "            color:  #000000;\n",
       "        }    #T_c5b79ea2_1b86_11eb_8dca_f828197bbfc8row1_col6 {\n",
       "            background-color:  #b8c6e0;\n",
       "            color:  #000000;\n",
       "        }    #T_c5b79ea2_1b86_11eb_8dca_f828197bbfc8row1_col7 {\n",
       "            background-color:  #e1dfed;\n",
       "            color:  #000000;\n",
       "        }    #T_c5b79ea2_1b86_11eb_8dca_f828197bbfc8row1_col8 {\n",
       "            background-color:  #e2dfee;\n",
       "            color:  #000000;\n",
       "        }    #T_c5b79ea2_1b86_11eb_8dca_f828197bbfc8row2_col0 {\n",
       "            background-color:  #bdc8e1;\n",
       "            color:  #000000;\n",
       "        }    #T_c5b79ea2_1b86_11eb_8dca_f828197bbfc8row2_col1 {\n",
       "            background-color:  #d0d1e6;\n",
       "            color:  #000000;\n",
       "        }    #T_c5b79ea2_1b86_11eb_8dca_f828197bbfc8row2_col2 {\n",
       "            background-color:  #023858;\n",
       "            color:  #f1f1f1;\n",
       "        }    #T_c5b79ea2_1b86_11eb_8dca_f828197bbfc8row2_col3 {\n",
       "            background-color:  #fbf3f9;\n",
       "            color:  #000000;\n",
       "        }    #T_c5b79ea2_1b86_11eb_8dca_f828197bbfc8row2_col4 {\n",
       "            background-color:  #f3edf5;\n",
       "            color:  #000000;\n",
       "        }    #T_c5b79ea2_1b86_11eb_8dca_f828197bbfc8row2_col5 {\n",
       "            background-color:  #fff7fb;\n",
       "            color:  #000000;\n",
       "        }    #T_c5b79ea2_1b86_11eb_8dca_f828197bbfc8row2_col6 {\n",
       "            background-color:  #80aed2;\n",
       "            color:  #000000;\n",
       "        }    #T_c5b79ea2_1b86_11eb_8dca_f828197bbfc8row2_col7 {\n",
       "            background-color:  #fff7fb;\n",
       "            color:  #000000;\n",
       "        }    #T_c5b79ea2_1b86_11eb_8dca_f828197bbfc8row2_col8 {\n",
       "            background-color:  #529bc7;\n",
       "            color:  #000000;\n",
       "        }    #T_c5b79ea2_1b86_11eb_8dca_f828197bbfc8row3_col0 {\n",
       "            background-color:  #a7bddb;\n",
       "            color:  #000000;\n",
       "        }    #T_c5b79ea2_1b86_11eb_8dca_f828197bbfc8row3_col1 {\n",
       "            background-color:  #f5eff6;\n",
       "            color:  #000000;\n",
       "        }    #T_c5b79ea2_1b86_11eb_8dca_f828197bbfc8row3_col2 {\n",
       "            background-color:  #fef6fa;\n",
       "            color:  #000000;\n",
       "        }    #T_c5b79ea2_1b86_11eb_8dca_f828197bbfc8row3_col3 {\n",
       "            background-color:  #023858;\n",
       "            color:  #f1f1f1;\n",
       "        }    #T_c5b79ea2_1b86_11eb_8dca_f828197bbfc8row3_col4 {\n",
       "            background-color:  #c4cbe3;\n",
       "            color:  #000000;\n",
       "        }    #T_c5b79ea2_1b86_11eb_8dca_f828197bbfc8row3_col5 {\n",
       "            background-color:  #dcdaeb;\n",
       "            color:  #000000;\n",
       "        }    #T_c5b79ea2_1b86_11eb_8dca_f828197bbfc8row3_col6 {\n",
       "            background-color:  #dedcec;\n",
       "            color:  #000000;\n",
       "        }    #T_c5b79ea2_1b86_11eb_8dca_f828197bbfc8row3_col7 {\n",
       "            background-color:  #adc1dd;\n",
       "            color:  #000000;\n",
       "        }    #T_c5b79ea2_1b86_11eb_8dca_f828197bbfc8row3_col8 {\n",
       "            background-color:  #d9d8ea;\n",
       "            color:  #000000;\n",
       "        }    #T_c5b79ea2_1b86_11eb_8dca_f828197bbfc8row4_col0 {\n",
       "            background-color:  #f4eef6;\n",
       "            color:  #000000;\n",
       "        }    #T_c5b79ea2_1b86_11eb_8dca_f828197bbfc8row4_col1 {\n",
       "            background-color:  #97b7d7;\n",
       "            color:  #000000;\n",
       "        }    #T_c5b79ea2_1b86_11eb_8dca_f828197bbfc8row4_col2 {\n",
       "            background-color:  #fff7fb;\n",
       "            color:  #000000;\n",
       "        }    #T_c5b79ea2_1b86_11eb_8dca_f828197bbfc8row4_col3 {\n",
       "            background-color:  #d2d3e7;\n",
       "            color:  #000000;\n",
       "        }    #T_c5b79ea2_1b86_11eb_8dca_f828197bbfc8row4_col4 {\n",
       "            background-color:  #023858;\n",
       "            color:  #f1f1f1;\n",
       "        }    #T_c5b79ea2_1b86_11eb_8dca_f828197bbfc8row4_col5 {\n",
       "            background-color:  #fdf5fa;\n",
       "            color:  #000000;\n",
       "        }    #T_c5b79ea2_1b86_11eb_8dca_f828197bbfc8row4_col6 {\n",
       "            background-color:  #fff7fb;\n",
       "            color:  #000000;\n",
       "        }    #T_c5b79ea2_1b86_11eb_8dca_f828197bbfc8row4_col7 {\n",
       "            background-color:  #d9d8ea;\n",
       "            color:  #000000;\n",
       "        }    #T_c5b79ea2_1b86_11eb_8dca_f828197bbfc8row4_col8 {\n",
       "            background-color:  #fff7fb;\n",
       "            color:  #000000;\n",
       "        }    #T_c5b79ea2_1b86_11eb_8dca_f828197bbfc8row5_col0 {\n",
       "            background-color:  #bdc8e1;\n",
       "            color:  #000000;\n",
       "        }    #T_c5b79ea2_1b86_11eb_8dca_f828197bbfc8row5_col1 {\n",
       "            background-color:  #ced0e6;\n",
       "            color:  #000000;\n",
       "        }    #T_c5b79ea2_1b86_11eb_8dca_f828197bbfc8row5_col2 {\n",
       "            background-color:  #ede8f3;\n",
       "            color:  #000000;\n",
       "        }    #T_c5b79ea2_1b86_11eb_8dca_f828197bbfc8row5_col3 {\n",
       "            background-color:  #bdc8e1;\n",
       "            color:  #000000;\n",
       "        }    #T_c5b79ea2_1b86_11eb_8dca_f828197bbfc8row5_col4 {\n",
       "            background-color:  #dbdaeb;\n",
       "            color:  #000000;\n",
       "        }    #T_c5b79ea2_1b86_11eb_8dca_f828197bbfc8row5_col5 {\n",
       "            background-color:  #023858;\n",
       "            color:  #f1f1f1;\n",
       "        }    #T_c5b79ea2_1b86_11eb_8dca_f828197bbfc8row5_col6 {\n",
       "            background-color:  #c0c9e2;\n",
       "            color:  #000000;\n",
       "        }    #T_c5b79ea2_1b86_11eb_8dca_f828197bbfc8row5_col7 {\n",
       "            background-color:  #dcdaeb;\n",
       "            color:  #000000;\n",
       "        }    #T_c5b79ea2_1b86_11eb_8dca_f828197bbfc8row5_col8 {\n",
       "            background-color:  #e8e4f0;\n",
       "            color:  #000000;\n",
       "        }    #T_c5b79ea2_1b86_11eb_8dca_f828197bbfc8row6_col0 {\n",
       "            background-color:  #d0d1e6;\n",
       "            color:  #000000;\n",
       "        }    #T_c5b79ea2_1b86_11eb_8dca_f828197bbfc8row6_col1 {\n",
       "            background-color:  #b8c6e0;\n",
       "            color:  #000000;\n",
       "        }    #T_c5b79ea2_1b86_11eb_8dca_f828197bbfc8row6_col2 {\n",
       "            background-color:  #93b5d6;\n",
       "            color:  #000000;\n",
       "        }    #T_c5b79ea2_1b86_11eb_8dca_f828197bbfc8row6_col3 {\n",
       "            background-color:  #eae6f1;\n",
       "            color:  #000000;\n",
       "        }    #T_c5b79ea2_1b86_11eb_8dca_f828197bbfc8row6_col4 {\n",
       "            background-color:  #fff7fb;\n",
       "            color:  #000000;\n",
       "        }    #T_c5b79ea2_1b86_11eb_8dca_f828197bbfc8row6_col5 {\n",
       "            background-color:  #eae6f1;\n",
       "            color:  #000000;\n",
       "        }    #T_c5b79ea2_1b86_11eb_8dca_f828197bbfc8row6_col6 {\n",
       "            background-color:  #023858;\n",
       "            color:  #f1f1f1;\n",
       "        }    #T_c5b79ea2_1b86_11eb_8dca_f828197bbfc8row6_col7 {\n",
       "            background-color:  #dbdaeb;\n",
       "            color:  #000000;\n",
       "        }    #T_c5b79ea2_1b86_11eb_8dca_f828197bbfc8row6_col8 {\n",
       "            background-color:  #bfc9e1;\n",
       "            color:  #000000;\n",
       "        }    #T_c5b79ea2_1b86_11eb_8dca_f828197bbfc8row7_col0 {\n",
       "            background-color:  #d0d1e6;\n",
       "            color:  #000000;\n",
       "        }    #T_c5b79ea2_1b86_11eb_8dca_f828197bbfc8row7_col1 {\n",
       "            background-color:  #d0d1e6;\n",
       "            color:  #000000;\n",
       "        }    #T_c5b79ea2_1b86_11eb_8dca_f828197bbfc8row7_col2 {\n",
       "            background-color:  #fef6fa;\n",
       "            color:  #000000;\n",
       "        }    #T_c5b79ea2_1b86_11eb_8dca_f828197bbfc8row7_col3 {\n",
       "            background-color:  #a7bddb;\n",
       "            color:  #000000;\n",
       "        }    #T_c5b79ea2_1b86_11eb_8dca_f828197bbfc8row7_col4 {\n",
       "            background-color:  #c5cce3;\n",
       "            color:  #000000;\n",
       "        }    #T_c5b79ea2_1b86_11eb_8dca_f828197bbfc8row7_col5 {\n",
       "            background-color:  #f0eaf4;\n",
       "            color:  #000000;\n",
       "        }    #T_c5b79ea2_1b86_11eb_8dca_f828197bbfc8row7_col6 {\n",
       "            background-color:  #c8cde4;\n",
       "            color:  #000000;\n",
       "        }    #T_c5b79ea2_1b86_11eb_8dca_f828197bbfc8row7_col7 {\n",
       "            background-color:  #023858;\n",
       "            color:  #f1f1f1;\n",
       "        }    #T_c5b79ea2_1b86_11eb_8dca_f828197bbfc8row7_col8 {\n",
       "            background-color:  #d6d6e9;\n",
       "            color:  #000000;\n",
       "        }    #T_c5b79ea2_1b86_11eb_8dca_f828197bbfc8row8_col0 {\n",
       "            background-color:  #c6cce3;\n",
       "            color:  #000000;\n",
       "        }    #T_c5b79ea2_1b86_11eb_8dca_f828197bbfc8row8_col1 {\n",
       "            background-color:  #cdd0e5;\n",
       "            color:  #000000;\n",
       "        }    #T_c5b79ea2_1b86_11eb_8dca_f828197bbfc8row8_col2 {\n",
       "            background-color:  #4c99c5;\n",
       "            color:  #000000;\n",
       "        }    #T_c5b79ea2_1b86_11eb_8dca_f828197bbfc8row8_col3 {\n",
       "            background-color:  #d1d2e6;\n",
       "            color:  #000000;\n",
       "        }    #T_c5b79ea2_1b86_11eb_8dca_f828197bbfc8row8_col4 {\n",
       "            background-color:  #efe9f3;\n",
       "            color:  #000000;\n",
       "        }    #T_c5b79ea2_1b86_11eb_8dca_f828197bbfc8row8_col5 {\n",
       "            background-color:  #f7f0f7;\n",
       "            color:  #000000;\n",
       "        }    #T_c5b79ea2_1b86_11eb_8dca_f828197bbfc8row8_col6 {\n",
       "            background-color:  #a5bddb;\n",
       "            color:  #000000;\n",
       "        }    #T_c5b79ea2_1b86_11eb_8dca_f828197bbfc8row8_col7 {\n",
       "            background-color:  #d3d4e7;\n",
       "            color:  #000000;\n",
       "        }    #T_c5b79ea2_1b86_11eb_8dca_f828197bbfc8row8_col8 {\n",
       "            background-color:  #023858;\n",
       "            color:  #f1f1f1;\n",
       "        }</style><table id=\"T_c5b79ea2_1b86_11eb_8dca_f828197bbfc8\" ><thead>    <tr>        <th class=\"blank level0\" ></th>        <th class=\"col_heading level0 col0\" >track_id</th>        <th class=\"col_heading level0 col1\" >acousticness</th>        <th class=\"col_heading level0 col2\" >danceability</th>        <th class=\"col_heading level0 col3\" >energy</th>        <th class=\"col_heading level0 col4\" >instrumentalness</th>        <th class=\"col_heading level0 col5\" >liveness</th>        <th class=\"col_heading level0 col6\" >speechiness</th>        <th class=\"col_heading level0 col7\" >tempo</th>        <th class=\"col_heading level0 col8\" >valence</th>    </tr></thead><tbody>\n",
       "                <tr>\n",
       "                        <th id=\"T_c5b79ea2_1b86_11eb_8dca_f828197bbfc8level0_row0\" class=\"row_heading level0 row0\" >track_id</th>\n",
       "                        <td id=\"T_c5b79ea2_1b86_11eb_8dca_f828197bbfc8row0_col0\" class=\"data row0 col0\" >1.000000</td>\n",
       "                        <td id=\"T_c5b79ea2_1b86_11eb_8dca_f828197bbfc8row0_col1\" class=\"data row0 col1\" >-0.372282</td>\n",
       "                        <td id=\"T_c5b79ea2_1b86_11eb_8dca_f828197bbfc8row0_col2\" class=\"data row0 col2\" >0.049454</td>\n",
       "                        <td id=\"T_c5b79ea2_1b86_11eb_8dca_f828197bbfc8row0_col3\" class=\"data row0 col3\" >0.140703</td>\n",
       "                        <td id=\"T_c5b79ea2_1b86_11eb_8dca_f828197bbfc8row0_col4\" class=\"data row0 col4\" >-0.275623</td>\n",
       "                        <td id=\"T_c5b79ea2_1b86_11eb_8dca_f828197bbfc8row0_col5\" class=\"data row0 col5\" >0.048231</td>\n",
       "                        <td id=\"T_c5b79ea2_1b86_11eb_8dca_f828197bbfc8row0_col6\" class=\"data row0 col6\" >-0.026995</td>\n",
       "                        <td id=\"T_c5b79ea2_1b86_11eb_8dca_f828197bbfc8row0_col7\" class=\"data row0 col7\" >-0.025392</td>\n",
       "                        <td id=\"T_c5b79ea2_1b86_11eb_8dca_f828197bbfc8row0_col8\" class=\"data row0 col8\" >0.010070</td>\n",
       "            </tr>\n",
       "            <tr>\n",
       "                        <th id=\"T_c5b79ea2_1b86_11eb_8dca_f828197bbfc8level0_row1\" class=\"row_heading level0 row1\" >acousticness</th>\n",
       "                        <td id=\"T_c5b79ea2_1b86_11eb_8dca_f828197bbfc8row1_col0\" class=\"data row1 col0\" >-0.372282</td>\n",
       "                        <td id=\"T_c5b79ea2_1b86_11eb_8dca_f828197bbfc8row1_col1\" class=\"data row1 col1\" >1.000000</td>\n",
       "                        <td id=\"T_c5b79ea2_1b86_11eb_8dca_f828197bbfc8row1_col2\" class=\"data row1 col2\" >-0.028954</td>\n",
       "                        <td id=\"T_c5b79ea2_1b86_11eb_8dca_f828197bbfc8row1_col3\" class=\"data row1 col3\" >-0.281619</td>\n",
       "                        <td id=\"T_c5b79ea2_1b86_11eb_8dca_f828197bbfc8row1_col4\" class=\"data row1 col4\" >0.194780</td>\n",
       "                        <td id=\"T_c5b79ea2_1b86_11eb_8dca_f828197bbfc8row1_col5\" class=\"data row1 col5\" >-0.019991</td>\n",
       "                        <td id=\"T_c5b79ea2_1b86_11eb_8dca_f828197bbfc8row1_col6\" class=\"data row1 col6\" >0.072204</td>\n",
       "                        <td id=\"T_c5b79ea2_1b86_11eb_8dca_f828197bbfc8row1_col7\" class=\"data row1 col7\" >-0.026310</td>\n",
       "                        <td id=\"T_c5b79ea2_1b86_11eb_8dca_f828197bbfc8row1_col8\" class=\"data row1 col8\" >-0.013841</td>\n",
       "            </tr>\n",
       "            <tr>\n",
       "                        <th id=\"T_c5b79ea2_1b86_11eb_8dca_f828197bbfc8level0_row2\" class=\"row_heading level0 row2\" >danceability</th>\n",
       "                        <td id=\"T_c5b79ea2_1b86_11eb_8dca_f828197bbfc8row2_col0\" class=\"data row2 col0\" >0.049454</td>\n",
       "                        <td id=\"T_c5b79ea2_1b86_11eb_8dca_f828197bbfc8row2_col1\" class=\"data row2 col1\" >-0.028954</td>\n",
       "                        <td id=\"T_c5b79ea2_1b86_11eb_8dca_f828197bbfc8row2_col2\" class=\"data row2 col2\" >1.000000</td>\n",
       "                        <td id=\"T_c5b79ea2_1b86_11eb_8dca_f828197bbfc8row2_col3\" class=\"data row2 col3\" >-0.242032</td>\n",
       "                        <td id=\"T_c5b79ea2_1b86_11eb_8dca_f828197bbfc8row2_col4\" class=\"data row2 col4\" >-0.255217</td>\n",
       "                        <td id=\"T_c5b79ea2_1b86_11eb_8dca_f828197bbfc8row2_col5\" class=\"data row2 col5\" >-0.106584</td>\n",
       "                        <td id=\"T_c5b79ea2_1b86_11eb_8dca_f828197bbfc8row2_col6\" class=\"data row2 col6\" >0.276206</td>\n",
       "                        <td id=\"T_c5b79ea2_1b86_11eb_8dca_f828197bbfc8row2_col7\" class=\"data row2 col7\" >-0.242089</td>\n",
       "                        <td id=\"T_c5b79ea2_1b86_11eb_8dca_f828197bbfc8row2_col8\" class=\"data row2 col8\" >0.473165</td>\n",
       "            </tr>\n",
       "            <tr>\n",
       "                        <th id=\"T_c5b79ea2_1b86_11eb_8dca_f828197bbfc8level0_row3\" class=\"row_heading level0 row3\" >energy</th>\n",
       "                        <td id=\"T_c5b79ea2_1b86_11eb_8dca_f828197bbfc8row3_col0\" class=\"data row3 col0\" >0.140703</td>\n",
       "                        <td id=\"T_c5b79ea2_1b86_11eb_8dca_f828197bbfc8row3_col1\" class=\"data row3 col1\" >-0.281619</td>\n",
       "                        <td id=\"T_c5b79ea2_1b86_11eb_8dca_f828197bbfc8row3_col2\" class=\"data row3 col2\" >-0.242032</td>\n",
       "                        <td id=\"T_c5b79ea2_1b86_11eb_8dca_f828197bbfc8row3_col3\" class=\"data row3 col3\" >1.000000</td>\n",
       "                        <td id=\"T_c5b79ea2_1b86_11eb_8dca_f828197bbfc8row3_col4\" class=\"data row3 col4\" >0.028238</td>\n",
       "                        <td id=\"T_c5b79ea2_1b86_11eb_8dca_f828197bbfc8row3_col5\" class=\"data row3 col5\" >0.113331</td>\n",
       "                        <td id=\"T_c5b79ea2_1b86_11eb_8dca_f828197bbfc8row3_col6\" class=\"data row3 col6\" >-0.109983</td>\n",
       "                        <td id=\"T_c5b79ea2_1b86_11eb_8dca_f828197bbfc8row3_col7\" class=\"data row3 col7\" >0.195227</td>\n",
       "                        <td id=\"T_c5b79ea2_1b86_11eb_8dca_f828197bbfc8row3_col8\" class=\"data row3 col8\" >0.038603</td>\n",
       "            </tr>\n",
       "            <tr>\n",
       "                        <th id=\"T_c5b79ea2_1b86_11eb_8dca_f828197bbfc8level0_row4\" class=\"row_heading level0 row4\" >instrumentalness</th>\n",
       "                        <td id=\"T_c5b79ea2_1b86_11eb_8dca_f828197bbfc8row4_col0\" class=\"data row4 col0\" >-0.275623</td>\n",
       "                        <td id=\"T_c5b79ea2_1b86_11eb_8dca_f828197bbfc8row4_col1\" class=\"data row4 col1\" >0.194780</td>\n",
       "                        <td id=\"T_c5b79ea2_1b86_11eb_8dca_f828197bbfc8row4_col2\" class=\"data row4 col2\" >-0.255217</td>\n",
       "                        <td id=\"T_c5b79ea2_1b86_11eb_8dca_f828197bbfc8row4_col3\" class=\"data row4 col3\" >0.028238</td>\n",
       "                        <td id=\"T_c5b79ea2_1b86_11eb_8dca_f828197bbfc8row4_col4\" class=\"data row4 col4\" >1.000000</td>\n",
       "                        <td id=\"T_c5b79ea2_1b86_11eb_8dca_f828197bbfc8row4_col5\" class=\"data row4 col5\" >-0.091022</td>\n",
       "                        <td id=\"T_c5b79ea2_1b86_11eb_8dca_f828197bbfc8row4_col6\" class=\"data row4 col6\" >-0.366762</td>\n",
       "                        <td id=\"T_c5b79ea2_1b86_11eb_8dca_f828197bbfc8row4_col7\" class=\"data row4 col7\" >0.022215</td>\n",
       "                        <td id=\"T_c5b79ea2_1b86_11eb_8dca_f828197bbfc8row4_col8\" class=\"data row4 col8\" >-0.219967</td>\n",
       "            </tr>\n",
       "            <tr>\n",
       "                        <th id=\"T_c5b79ea2_1b86_11eb_8dca_f828197bbfc8level0_row5\" class=\"row_heading level0 row5\" >liveness</th>\n",
       "                        <td id=\"T_c5b79ea2_1b86_11eb_8dca_f828197bbfc8row5_col0\" class=\"data row5 col0\" >0.048231</td>\n",
       "                        <td id=\"T_c5b79ea2_1b86_11eb_8dca_f828197bbfc8row5_col1\" class=\"data row5 col1\" >-0.019991</td>\n",
       "                        <td id=\"T_c5b79ea2_1b86_11eb_8dca_f828197bbfc8row5_col2\" class=\"data row5 col2\" >-0.106584</td>\n",
       "                        <td id=\"T_c5b79ea2_1b86_11eb_8dca_f828197bbfc8row5_col3\" class=\"data row5 col3\" >0.113331</td>\n",
       "                        <td id=\"T_c5b79ea2_1b86_11eb_8dca_f828197bbfc8row5_col4\" class=\"data row5 col4\" >-0.091022</td>\n",
       "                        <td id=\"T_c5b79ea2_1b86_11eb_8dca_f828197bbfc8row5_col5\" class=\"data row5 col5\" >1.000000</td>\n",
       "                        <td id=\"T_c5b79ea2_1b86_11eb_8dca_f828197bbfc8row5_col6\" class=\"data row5 col6\" >0.041173</td>\n",
       "                        <td id=\"T_c5b79ea2_1b86_11eb_8dca_f828197bbfc8row5_col7\" class=\"data row5 col7\" >0.002732</td>\n",
       "                        <td id=\"T_c5b79ea2_1b86_11eb_8dca_f828197bbfc8row5_col8\" class=\"data row5 col8\" >-0.045093</td>\n",
       "            </tr>\n",
       "            <tr>\n",
       "                        <th id=\"T_c5b79ea2_1b86_11eb_8dca_f828197bbfc8level0_row6\" class=\"row_heading level0 row6\" >speechiness</th>\n",
       "                        <td id=\"T_c5b79ea2_1b86_11eb_8dca_f828197bbfc8row6_col0\" class=\"data row6 col0\" >-0.026995</td>\n",
       "                        <td id=\"T_c5b79ea2_1b86_11eb_8dca_f828197bbfc8row6_col1\" class=\"data row6 col1\" >0.072204</td>\n",
       "                        <td id=\"T_c5b79ea2_1b86_11eb_8dca_f828197bbfc8row6_col2\" class=\"data row6 col2\" >0.276206</td>\n",
       "                        <td id=\"T_c5b79ea2_1b86_11eb_8dca_f828197bbfc8row6_col3\" class=\"data row6 col3\" >-0.109983</td>\n",
       "                        <td id=\"T_c5b79ea2_1b86_11eb_8dca_f828197bbfc8row6_col4\" class=\"data row6 col4\" >-0.366762</td>\n",
       "                        <td id=\"T_c5b79ea2_1b86_11eb_8dca_f828197bbfc8row6_col5\" class=\"data row6 col5\" >0.041173</td>\n",
       "                        <td id=\"T_c5b79ea2_1b86_11eb_8dca_f828197bbfc8row6_col6\" class=\"data row6 col6\" >1.000000</td>\n",
       "                        <td id=\"T_c5b79ea2_1b86_11eb_8dca_f828197bbfc8row6_col7\" class=\"data row6 col7\" >0.008241</td>\n",
       "                        <td id=\"T_c5b79ea2_1b86_11eb_8dca_f828197bbfc8row6_col8\" class=\"data row6 col8\" >0.149894</td>\n",
       "            </tr>\n",
       "            <tr>\n",
       "                        <th id=\"T_c5b79ea2_1b86_11eb_8dca_f828197bbfc8level0_row7\" class=\"row_heading level0 row7\" >tempo</th>\n",
       "                        <td id=\"T_c5b79ea2_1b86_11eb_8dca_f828197bbfc8row7_col0\" class=\"data row7 col0\" >-0.025392</td>\n",
       "                        <td id=\"T_c5b79ea2_1b86_11eb_8dca_f828197bbfc8row7_col1\" class=\"data row7 col1\" >-0.026310</td>\n",
       "                        <td id=\"T_c5b79ea2_1b86_11eb_8dca_f828197bbfc8row7_col2\" class=\"data row7 col2\" >-0.242089</td>\n",
       "                        <td id=\"T_c5b79ea2_1b86_11eb_8dca_f828197bbfc8row7_col3\" class=\"data row7 col3\" >0.195227</td>\n",
       "                        <td id=\"T_c5b79ea2_1b86_11eb_8dca_f828197bbfc8row7_col4\" class=\"data row7 col4\" >0.022215</td>\n",
       "                        <td id=\"T_c5b79ea2_1b86_11eb_8dca_f828197bbfc8row7_col5\" class=\"data row7 col5\" >0.002732</td>\n",
       "                        <td id=\"T_c5b79ea2_1b86_11eb_8dca_f828197bbfc8row7_col6\" class=\"data row7 col6\" >0.008241</td>\n",
       "                        <td id=\"T_c5b79ea2_1b86_11eb_8dca_f828197bbfc8row7_col7\" class=\"data row7 col7\" >1.000000</td>\n",
       "                        <td id=\"T_c5b79ea2_1b86_11eb_8dca_f828197bbfc8row7_col8\" class=\"data row7 col8\" >0.052221</td>\n",
       "            </tr>\n",
       "            <tr>\n",
       "                        <th id=\"T_c5b79ea2_1b86_11eb_8dca_f828197bbfc8level0_row8\" class=\"row_heading level0 row8\" >valence</th>\n",
       "                        <td id=\"T_c5b79ea2_1b86_11eb_8dca_f828197bbfc8row8_col0\" class=\"data row8 col0\" >0.010070</td>\n",
       "                        <td id=\"T_c5b79ea2_1b86_11eb_8dca_f828197bbfc8row8_col1\" class=\"data row8 col1\" >-0.013841</td>\n",
       "                        <td id=\"T_c5b79ea2_1b86_11eb_8dca_f828197bbfc8row8_col2\" class=\"data row8 col2\" >0.473165</td>\n",
       "                        <td id=\"T_c5b79ea2_1b86_11eb_8dca_f828197bbfc8row8_col3\" class=\"data row8 col3\" >0.038603</td>\n",
       "                        <td id=\"T_c5b79ea2_1b86_11eb_8dca_f828197bbfc8row8_col4\" class=\"data row8 col4\" >-0.219967</td>\n",
       "                        <td id=\"T_c5b79ea2_1b86_11eb_8dca_f828197bbfc8row8_col5\" class=\"data row8 col5\" >-0.045093</td>\n",
       "                        <td id=\"T_c5b79ea2_1b86_11eb_8dca_f828197bbfc8row8_col6\" class=\"data row8 col6\" >0.149894</td>\n",
       "                        <td id=\"T_c5b79ea2_1b86_11eb_8dca_f828197bbfc8row8_col7\" class=\"data row8 col7\" >0.052221</td>\n",
       "                        <td id=\"T_c5b79ea2_1b86_11eb_8dca_f828197bbfc8row8_col8\" class=\"data row8 col8\" >1.000000</td>\n",
       "            </tr>\n",
       "    </tbody></table>"
      ],
      "text/plain": [
       "<pandas.io.formats.style.Styler at 0x1c3afc956a0>"
      ]
     },
     "execution_count": 11,
     "metadata": {},
     "output_type": "execute_result"
    }
   ],
   "source": [
    "corr_metrics = echo_tracks.corr()\n",
    "corr_metrics.style.background_gradient()"
   ]
  },
  {
   "cell_type": "code",
   "execution_count": null,
   "metadata": {},
   "outputs": [],
   "source": []
  },
  {
   "cell_type": "code",
   "execution_count": null,
   "metadata": {},
   "outputs": [],
   "source": []
  },
  {
   "cell_type": "code",
   "execution_count": null,
   "metadata": {},
   "outputs": [],
   "source": []
  },
  {
   "cell_type": "code",
   "execution_count": 12,
   "metadata": {},
   "outputs": [],
   "source": [
    "features = echo_tracks.drop(['genre_top', 'track_id'], axis = 1)\n",
    "\n",
    "# Define our labels\n",
    "labels = echo_tracks['genre_top']\n",
    "\n",
    "# Import the StandardScaler\n",
    "from sklearn.preprocessing import StandardScaler\n",
    "\n",
    "# Scale the features and set the values to a new variable\n",
    "scaler = StandardScaler()\n",
    "scaled_train_features = scaler.fit_transform(features)"
   ]
  },
  {
   "cell_type": "code",
   "execution_count": 13,
   "metadata": {},
   "outputs": [
    {
     "data": {
      "text/plain": [
       "array([0.24297674, 0.18044316, 0.13650309, 0.12994089, 0.11056248,\n",
       "       0.08302245, 0.06923783, 0.04731336])"
      ]
     },
     "execution_count": 13,
     "metadata": {},
     "output_type": "execute_result"
    }
   ],
   "source": [
    "import matplotlib.pyplot as plt\n",
    "from sklearn.decomposition import PCA\n",
    "\n",
    "# Get our explained variance ratios from PCA using all features\n",
    "pca = PCA()\n",
    "pca.fit(scaled_train_features)\n",
    "exp_variance = pca.explained_variance_ratio_\n",
    "exp_variance"
   ]
  },
  {
   "cell_type": "code",
   "execution_count": 14,
   "metadata": {},
   "outputs": [
    {
     "data": {
      "image/png": "[encoded data removed]",
      "text/plain": [
       "<Figure size 432x288 with 1 Axes>"
      ]
     },
     "metadata": {
      "needs_background": "light"
     },
     "output_type": "display_data"
    }
   ],
   "source": [
    "fig, ax = plt.subplots()\n",
    "ax.bar(range(pca.n_components_),exp_variance)\n",
    "ax.set_xlabel('Principal Component #')\n",
    "plt.show()\n"
   ]
  },
  {
   "cell_type": "code",
   "execution_count": 16,
   "metadata": {},
   "outputs": [
    {
     "data": {
      "text/plain": [
       "array([0.24297674, 0.4234199 , 0.55992299, 0.68986388, 0.80042636,\n",
       "       0.88344881, 0.95268664, 1.        ])"
      ]
     },
     "execution_count": 16,
     "metadata": {},
     "output_type": "execute_result"
    }
   ],
   "source": [
    "import numpy as np\n",
    "cum_exp_variance = np.cumsum(exp_variance)\n",
    "cum_exp_variance"
   ]
  },
  {
   "cell_type": "code",
   "execution_count": 17,
   "metadata": {},
   "outputs": [
    {
     "data": {
      "image/png": "[encoded data removed]",
      "text/plain": [
       "<Figure size 432x288 with 1 Axes>"
      ]
     },
     "metadata": {
      "needs_background": "light"
     },
     "output_type": "display_data"
    }
   ],
   "source": [
    "fig, ax = plt.subplots()\n",
    "ax.plot(range(8),cum_exp_variance)\n",
    "ax.axhline(y=0.9, linestyle='--')\n",
    "plt.show()"
   ]
  },
  {
   "cell_type": "code",
   "execution_count": 18,
   "metadata": {},
   "outputs": [],
   "source": [
    "n_components = 7\n",
    "\n",
    "# Perform PCA with the chosen number of components and project data onto components\n",
    "pca = PCA(n_components, random_state=10)\n",
    "pca.fit(scaled_train_features)\n",
    "pca_projection = pca.transform(scaled_train_features)"
   ]
  },
  {
   "cell_type": "code",
   "execution_count": 19,
   "metadata": {},
   "outputs": [
    {
     "data": {
      "text/plain": [
       "(4802, 7)"
      ]
     },
     "execution_count": 19,
     "metadata": {},
     "output_type": "execute_result"
    }
   ],
   "source": [
    "pca_projection.shape\n"
   ]
  },
  {
   "cell_type": "code",
   "execution_count": 20,
   "metadata": {},
   "outputs": [],
   "source": [
    "from sklearn.model_selection import train_test_split\n",
    "\n",
    "# Split our data\n",
    "train_features, test_features, train_labels, test_labels = train_test_split(pca_projection, labels, stratify = labels)\n",
    "\n",
    "# Train our decision tree\n",
    "from sklearn.tree import DecisionTreeClassifier\n",
    "tree = DecisionTreeClassifier(random_state = 10)\n",
    "tree.fit(train_features, train_labels)\n",
    "\n",
    "# Predict the labels for the test data\n",
    "pred_labels_tree = tree.predict(test_features)"
   ]
  },
  {
   "cell_type": "code",
   "execution_count": 21,
   "metadata": {},
   "outputs": [
    {
     "data": {
      "text/plain": [
       "0.8509575353871773"
      ]
     },
     "execution_count": 21,
     "metadata": {},
     "output_type": "execute_result"
    }
   ],
   "source": [
    "from sklearn.metrics import accuracy_score\n",
    "accuracy_score(test_labels, pred_labels_tree)"
   ]
  },
  {
   "cell_type": "code",
   "execution_count": 22,
   "metadata": {},
   "outputs": [
    {
     "data": {
      "text/plain": [
       "Rock       3892\n",
       "Hip-Hop     910\n",
       "Name: genre_top, dtype: int64"
      ]
     },
     "execution_count": 22,
     "metadata": {},
     "output_type": "execute_result"
    }
   ],
   "source": [
    "labels.value_counts()\n"
   ]
  },
  {
   "cell_type": "code",
   "execution_count": 23,
   "metadata": {},
   "outputs": [
    {
     "data": {
      "text/plain": [
       "array([[143,  85],\n",
       "       [ 94, 879]], dtype=int64)"
      ]
     },
     "execution_count": 23,
     "metadata": {},
     "output_type": "execute_result"
    }
   ],
   "source": [
    "from sklearn.metrics import confusion_matrix\n",
    "confusion_matrix(test_labels, pred_labels_tree)"
   ]
  },
  {
   "cell_type": "code",
   "execution_count": 24,
   "metadata": {},
   "outputs": [
    {
     "name": "stdout",
     "output_type": "stream",
     "text": [
      "Decision Tree: \n",
      "               precision    recall  f1-score   support\n",
      "\n",
      "     Hip-Hop       0.60      0.63      0.62       228\n",
      "        Rock       0.91      0.90      0.91       973\n",
      "\n",
      "    accuracy                           0.85      1201\n",
      "   macro avg       0.76      0.77      0.76      1201\n",
      "weighted avg       0.85      0.85      0.85      1201\n",
      "\n",
      "Logistic Regression: \n",
      "               precision    recall  f1-score   support\n",
      "\n",
      "     Hip-Hop       0.78      0.59      0.67       228\n",
      "        Rock       0.91      0.96      0.93       973\n",
      "\n",
      "    accuracy                           0.89      1201\n",
      "   macro avg       0.84      0.77      0.80      1201\n",
      "weighted avg       0.88      0.89      0.88      1201\n",
      "\n"
     ]
    }
   ],
   "source": [
    "from sklearn.linear_model import LogisticRegression\n",
    "\n",
    "# Train our logistic regression and predict labels for the test set\n",
    "logreg = LogisticRegression(random_state = 10)\n",
    "logreg.fit(train_features, train_labels)\n",
    "pred_labels_logit = logreg.predict(test_features)\n",
    "\n",
    "# Create the classification report for both models\n",
    "from sklearn.metrics import classification_report\n",
    "class_rep_tree = classification_report(test_labels, pred_labels_tree)\n",
    "class_rep_log = classification_report(test_labels, pred_labels_logit)\n",
    "\n",
    "print(\"Decision Tree: \\n\", class_rep_tree)\n",
    "print(\"Logistic Regression: \\n\", class_rep_log)"
   ]
  },
  {
   "cell_type": "code",
   "execution_count": 25,
   "metadata": {},
   "outputs": [
    {
     "data": {
      "text/html": [
       "<div>\n",
       "<style scoped>\n",
       "    .dataframe tbody tr th:only-of-type {\n",
       "        vertical-align: middle;\n",
       "    }\n",
       "\n",
       "    .dataframe tbody tr th {\n",
       "        vertical-align: top;\n",
       "    }\n",
       "\n",
       "    .dataframe thead th {\n",
       "        text-align: right;\n",
       "    }\n",
       "</style>\n",
       "<table border=\"1\" class=\"dataframe\">\n",
       "  <thead>\n",
       "    <tr style=\"text-align: right;\">\n",
       "      <th></th>\n",
       "      <th>track_id</th>\n",
       "      <th>genre_top</th>\n",
       "      <th>acousticness</th>\n",
       "      <th>danceability</th>\n",
       "      <th>energy</th>\n",
       "      <th>instrumentalness</th>\n",
       "      <th>liveness</th>\n",
       "      <th>speechiness</th>\n",
       "      <th>tempo</th>\n",
       "      <th>valence</th>\n",
       "    </tr>\n",
       "  </thead>\n",
       "  <tbody>\n",
       "    <tr>\n",
       "      <th>0</th>\n",
       "      <td>153</td>\n",
       "      <td>Rock</td>\n",
       "      <td>0.988306</td>\n",
       "      <td>0.255661</td>\n",
       "      <td>0.979774</td>\n",
       "      <td>0.973006</td>\n",
       "      <td>0.121342</td>\n",
       "      <td>0.051740</td>\n",
       "      <td>90.241</td>\n",
       "      <td>0.034018</td>\n",
       "    </tr>\n",
       "    <tr>\n",
       "      <th>1</th>\n",
       "      <td>154</td>\n",
       "      <td>Rock</td>\n",
       "      <td>0.970135</td>\n",
       "      <td>0.352946</td>\n",
       "      <td>0.023852</td>\n",
       "      <td>0.957113</td>\n",
       "      <td>0.113261</td>\n",
       "      <td>0.032177</td>\n",
       "      <td>53.758</td>\n",
       "      <td>0.035632</td>\n",
       "    </tr>\n",
       "    <tr>\n",
       "      <th>2</th>\n",
       "      <td>155</td>\n",
       "      <td>Rock</td>\n",
       "      <td>0.981657</td>\n",
       "      <td>0.142249</td>\n",
       "      <td>0.912122</td>\n",
       "      <td>0.967294</td>\n",
       "      <td>0.363510</td>\n",
       "      <td>0.087527</td>\n",
       "      <td>91.912</td>\n",
       "      <td>0.034325</td>\n",
       "    </tr>\n",
       "    <tr>\n",
       "      <th>3</th>\n",
       "      <td>169</td>\n",
       "      <td>Rock</td>\n",
       "      <td>0.989141</td>\n",
       "      <td>0.225978</td>\n",
       "      <td>0.722835</td>\n",
       "      <td>0.263076</td>\n",
       "      <td>0.092371</td>\n",
       "      <td>0.053406</td>\n",
       "      <td>94.322</td>\n",
       "      <td>0.028347</td>\n",
       "    </tr>\n",
       "    <tr>\n",
       "      <th>4</th>\n",
       "      <td>170</td>\n",
       "      <td>Rock</td>\n",
       "      <td>0.886660</td>\n",
       "      <td>0.298518</td>\n",
       "      <td>0.744333</td>\n",
       "      <td>0.920950</td>\n",
       "      <td>0.139587</td>\n",
       "      <td>0.088781</td>\n",
       "      <td>97.880</td>\n",
       "      <td>0.073548</td>\n",
       "    </tr>\n",
       "  </tbody>\n",
       "</table>\n",
       "</div>"
      ],
      "text/plain": [
       "   track_id genre_top  acousticness  danceability    energy  instrumentalness  \\\n",
       "0       153      Rock      0.988306      0.255661  0.979774          0.973006   \n",
       "1       154      Rock      0.970135      0.352946  0.023852          0.957113   \n",
       "2       155      Rock      0.981657      0.142249  0.912122          0.967294   \n",
       "3       169      Rock      0.989141      0.225978  0.722835          0.263076   \n",
       "4       170      Rock      0.886660      0.298518  0.744333          0.920950   \n",
       "\n",
       "   liveness  speechiness   tempo   valence  \n",
       "0  0.121342     0.051740  90.241  0.034018  \n",
       "1  0.113261     0.032177  53.758  0.035632  \n",
       "2  0.363510     0.087527  91.912  0.034325  \n",
       "3  0.092371     0.053406  94.322  0.028347  \n",
       "4  0.139587     0.088781  97.880  0.073548  "
      ]
     },
     "execution_count": 25,
     "metadata": {},
     "output_type": "execute_result"
    }
   ],
   "source": [
    "hop_only = echo_tracks.loc[echo_tracks['genre_top'] == 'Hip-Hop']\n",
    "rock_only = echo_tracks.loc[echo_tracks['genre_top'] == 'Rock']\n",
    "rock_only.head()"
   ]
  },
  {
   "cell_type": "code",
   "execution_count": null,
   "metadata": {},
   "outputs": [],
   "source": []
  },
  {
   "cell_type": "code",
   "execution_count": null,
   "metadata": {},
   "outputs": [],
   "source": []
  },
  {
   "cell_type": "code",
   "execution_count": 26,
   "metadata": {},
   "outputs": [
    {
     "data": {
      "text/plain": [
       "((3892, 10), (910, 10))"
      ]
     },
     "execution_count": 26,
     "metadata": {},
     "output_type": "execute_result"
    }
   ],
   "source": [
    "rock_only.shape, hop_only.shape\n"
   ]
  },
  {
   "cell_type": "code",
   "execution_count": 27,
   "metadata": {},
   "outputs": [
    {
     "data": {
      "text/plain": [
       "((910, 10), (910, 10))"
      ]
     },
     "execution_count": 27,
     "metadata": {},
     "output_type": "execute_result"
    }
   ],
   "source": [
    "rock_only = rock_only.sample(n= hop_only.shape[0])\n",
    "rock_only.shape, hop_only.shape"
   ]
  },
  {
   "cell_type": "code",
   "execution_count": 29,
   "metadata": {},
   "outputs": [
    {
     "data": {
      "text/plain": [
       "(1820, 10)"
      ]
     },
     "execution_count": 29,
     "metadata": {},
     "output_type": "execute_result"
    }
   ],
   "source": [
    "rock_hop_bal = pd.concat([rock_only, hop_only])\n",
    "rock_hop_bal.shape"
   ]
  },
  {
   "cell_type": "code",
   "execution_count": 30,
   "metadata": {},
   "outputs": [],
   "source": [
    "features = rock_hop_bal.drop(['genre_top', 'track_id'], axis=1) \n",
    "labels = rock_hop_bal['genre_top']\n",
    "pca_projection = pca.fit_transform(scaler.fit_transform(features))\n",
    "\n",
    "# Redefine the train and test set with the pca_projection from the balanced data\n",
    "train_features, test_features, train_labels, test_labels = train_test_split(pca_projection,\n",
    "                                                                            labels,\n",
    "                                                                            stratify = labels,\n",
    "                                                                            random_state=10)"
   ]
  },
  {
   "cell_type": "code",
   "execution_count": 31,
   "metadata": {},
   "outputs": [
    {
     "name": "stdout",
     "output_type": "stream",
     "text": [
      "Decision Tree: \n",
      "               precision    recall  f1-score   support\n",
      "\n",
      "     Hip-Hop       0.78      0.79      0.79       227\n",
      "        Rock       0.79      0.78      0.78       228\n",
      "\n",
      "    accuracy                           0.78       455\n",
      "   macro avg       0.78      0.78      0.78       455\n",
      "weighted avg       0.78      0.78      0.78       455\n",
      "\n",
      "Logistic Regression: \n",
      "               precision    recall  f1-score   support\n",
      "\n",
      "     Hip-Hop       0.85      0.80      0.83       227\n",
      "        Rock       0.81      0.86      0.84       228\n",
      "\n",
      "    accuracy                           0.83       455\n",
      "   macro avg       0.83      0.83      0.83       455\n",
      "weighted avg       0.83      0.83      0.83       455\n",
      "\n"
     ]
    }
   ],
   "source": [
    "tree = DecisionTreeClassifier(random_state=10)\n",
    "tree.fit(train_features, train_labels)\n",
    "pred_labels_tree = tree.predict(test_features)\n",
    "\n",
    "# Train our logistic regression on the balanced data\n",
    "logreg = LogisticRegression(random_state = 10)\n",
    "logreg.fit(train_features, train_labels)\n",
    "pred_labels_logit = logreg.predict(test_features)\n",
    "\n",
    "# Compare the models\n",
    "print(\"Decision Tree: \\n\", classification_report(test_labels, pred_labels_tree))\n",
    "print(\"Logistic Regression: \\n\", classification_report(test_labels, pred_labels_logit))"
   ]
  },
  {
   "cell_type": "code",
   "execution_count": 32,
   "metadata": {},
   "outputs": [
    {
     "name": "stderr",
     "output_type": "stream",
     "text": [
      "C:\\Users\\Navin\\Anaconda3\\lib\\site-packages\\sklearn\\model_selection\\_split.py:293: FutureWarning: Setting a random_state has no effect since shuffle is False. This will raise an error in 0.24. You should leave random_state to its default (None), or set shuffle=True.\n",
      "  warnings.warn(\n"
     ]
    },
    {
     "name": "stdout",
     "output_type": "stream",
     "text": [
      "Decision Tree: 0.7675824175824175 Logistic Regression: 0.8203296703296704\n"
     ]
    }
   ],
   "source": [
    "from sklearn.model_selection import KFold, cross_val_score\n",
    "\n",
    "# Set up our K-fold cross-validation\n",
    "kf = KFold(n_splits=10, random_state=10)\n",
    "\n",
    "tree = DecisionTreeClassifier(random_state=10)\n",
    "logreg = LogisticRegression(random_state=10)\n",
    "\n",
    "# Train our models using KFold cv\n",
    "tree_score = cross_val_score(tree, pca_projection, labels, cv = kf)\n",
    "logit_score = cross_val_score(logreg, pca_projection, labels, cv = kf)\n",
    "\n",
    "# Print the mean of each array of scores\n",
    "print(\"Decision Tree:\", np.mean(tree_score),\n",
    "      \"Logistic Regression:\", np.mean(logit_score))"
   ]
  },
  {
   "cell_type": "code",
   "execution_count": null,
   "metadata": {},
   "outputs": [],
   "source": []
  },
  {
   "cell_type": "code",
   "execution_count": null,
   "metadata": {},
   "outputs": [],
   "source": []
  }
 ],
 "metadata": {
  "kernelspec": {
   "display_name": "Python 3",
   "language": "python",
   "name": "python3"
  },
  "language_info": {
   "codemirror_mode": {
    "name": "ipython",
    "version": 3
   },
   "file_extension": ".py",
   "mimetype": "text/x-python",
   "name": "python",
   "nbconvert_exporter": "python",
   "pygments_lexer": "ipython3",
   "version": "3.8.3"
  }
 },
 "nbformat": 4,
 "nbformat_minor": 4
}
